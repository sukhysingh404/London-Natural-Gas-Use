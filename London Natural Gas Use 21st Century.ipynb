{
 "cells": [
  {
   "cell_type": "code",
   "execution_count": null,
   "id": "fa937a1c",
   "metadata": {},
   "outputs": [],
   "source": [
    "import geopandas as gpd\n",
    "import pandas as pd\n",
    "import matplotlib.pyplot as plt\n",
    "import plotly.express as px\n",
    "import json"
   ]
  },
  {
   "cell_type": "code",
   "execution_count": null,
   "id": "8501d7ee",
   "metadata": {},
   "outputs": [],
   "source": [
    "#get the geodata and convert to json format\n",
    "shp = 'London/London_borough.shp'\n",
    "borough = gpd.read_file(shp)\n",
    "borough.index = borough['NAME']\n",
    "borough.drop(['GSS_CODE', 'HECTARES', 'NONLD_AREA', 'ONS_INNER', 'SUB_2009', 'SUB_2006', 'NAME'], axis=1, inplace=True)\n",
    "borough = borough.sort_values('NAME')\n",
    "borough_json = json.loads(borough.to_json())"
   ]
  },
  {
   "cell_type": "code",
   "execution_count": null,
   "id": "5fee3245",
   "metadata": {},
   "outputs": [],
   "source": [
    "#get the gas data\n",
    "raw = pd.read_csv(\"gas-consumption.csv\")\n",
    "gas_consumption = [\"area\", \"year\", \"sales_per_consumer_domestic_kWh\" ]\n",
    "gas_df = raw[gas_consumption]\n",
    "gas_df = gas_df.rename(columns={\"area\": \"NAME\"})"
   ]
  },
  {
   "cell_type": "code",
   "execution_count": null,
   "id": "725f7589",
   "metadata": {},
   "outputs": [],
   "source": [
    "fig = px.choropleth_mapbox(data_frame=gas_df,\n",
    "                           geojson=borough_json,\n",
    "                           locations=gas_df.NAME,\n",
    "                           color='sales_per_consumer_domestic_kWh',\n",
    "                           center={'lat':51.507621, 'lon':-0.1180},\n",
    "                           mapbox_style='open-street-map',\n",
    "                           zoom=8,\n",
    "                           color_continuous_scale='YlGnBu',\n",
    "                           range_color=(9000, 24500),\n",
    "                           animation_frame='year',\n",
    "                           width=800,\n",
    "                           height=600,\n",
    "                          opacity=0.9)\n",
    "fig.write_html('London_by_year.html')\n",
    "fig.show()"
   ]
  },
  {
   "cell_type": "code",
   "execution_count": null,
   "id": "fd0f4ac6",
   "metadata": {},
   "outputs": [],
   "source": []
  },
  {
   "cell_type": "code",
   "execution_count": null,
   "id": "455e0b41",
   "metadata": {},
   "outputs": [],
   "source": []
  }
 ],
 "metadata": {
  "kernelspec": {
   "display_name": "spatialds",
   "language": "python",
   "name": "spatialds"
  },
  "language_info": {
   "codemirror_mode": {
    "name": "ipython",
    "version": 3
   },
   "file_extension": ".py",
   "mimetype": "text/x-python",
   "name": "python",
   "nbconvert_exporter": "python",
   "pygments_lexer": "ipython3",
   "version": "3.10.10"
  }
 },
 "nbformat": 4,
 "nbformat_minor": 5
}
